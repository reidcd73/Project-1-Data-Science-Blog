{
 "cells": [
  {
   "cell_type": "markdown",
   "metadata": {},
   "source": [
    "Data used in this analysis comes from http://insideairbnb.com/get-the-data.html\n",
    "using the Britol 2019 data \n",
    "  \n",
    "  \n",
    "  "
   ]
  },
  {
   "cell_type": "code",
   "execution_count": 1,
   "metadata": {},
   "outputs": [],
   "source": [
    "import numpy as np\n",
    "import pandas as pd\n",
    "import matplotlib.pyplot as plt\n",
    "import seaborn as sns\n",
    "from sklearn.feature_extraction.text import CountVectorizer\n",
    "from sklearn.linear_model import LinearRegression\n",
    "from sklearn.model_selection import train_test_split\n",
    "from sklearn.metrics import r2_score, mean_squared_error\n",
    "\n",
    "%matplotlib inline"
   ]
  },
  {
   "cell_type": "code",
   "execution_count": 2,
   "metadata": {},
   "outputs": [],
   "source": [
    "# Load the three files to be used in the analysis  \n",
    "listings = pd.read_csv('./Data/listings_bg.csv')\n",
    "calendar = pd.read_csv(\"./Data/calendar.csv\")\n",
    "reviews = pd.read_csv(\"./Data/reviews_bg.csv\")"
   ]
  },
  {
   "cell_type": "code",
   "execution_count": 3,
   "metadata": {},
   "outputs": [
    {
     "name": "stdout",
     "output_type": "stream",
     "text": [
      "Bristol listing shape  :- (2703, 106)\n",
      "Bristol calendar shape :- (986595, 7)\n",
      "Bristol reviews shape  :- (105207, 6)\n"
     ]
    }
   ],
   "source": [
    "# review the dataframe shape \n",
    "print('Bristol listing shape  :-',listings.shape)\n",
    "print('Bristol calendar shape :-',calendar.shape)\n",
    "print('Bristol reviews shape  :-',reviews.shape)"
   ]
  },
  {
   "cell_type": "code",
   "execution_count": 4,
   "metadata": {
    "scrolled": true
   },
   "outputs": [
    {
     "data": {
      "text/html": [
       "<div>\n",
       "<style scoped>\n",
       "    .dataframe tbody tr th:only-of-type {\n",
       "        vertical-align: middle;\n",
       "    }\n",
       "\n",
       "    .dataframe tbody tr th {\n",
       "        vertical-align: top;\n",
       "    }\n",
       "\n",
       "    .dataframe thead th {\n",
       "        text-align: right;\n",
       "    }\n",
       "</style>\n",
       "<table border=\"1\" class=\"dataframe\">\n",
       "  <thead>\n",
       "    <tr style=\"text-align: right;\">\n",
       "      <th></th>\n",
       "      <th>id</th>\n",
       "      <th>listing_url</th>\n",
       "      <th>scrape_id</th>\n",
       "      <th>last_scraped</th>\n",
       "      <th>name</th>\n",
       "      <th>summary</th>\n",
       "      <th>space</th>\n",
       "      <th>description</th>\n",
       "      <th>experiences_offered</th>\n",
       "      <th>neighborhood_overview</th>\n",
       "      <th>...</th>\n",
       "      <th>instant_bookable</th>\n",
       "      <th>is_business_travel_ready</th>\n",
       "      <th>cancellation_policy</th>\n",
       "      <th>require_guest_profile_picture</th>\n",
       "      <th>require_guest_phone_verification</th>\n",
       "      <th>calculated_host_listings_count</th>\n",
       "      <th>calculated_host_listings_count_entire_homes</th>\n",
       "      <th>calculated_host_listings_count_private_rooms</th>\n",
       "      <th>calculated_host_listings_count_shared_rooms</th>\n",
       "      <th>reviews_per_month</th>\n",
       "    </tr>\n",
       "  </thead>\n",
       "  <tbody>\n",
       "    <tr>\n",
       "      <td>0</td>\n",
       "      <td>70820</td>\n",
       "      <td>https://www.airbnb.com/rooms/70820</td>\n",
       "      <td>20191121092348</td>\n",
       "      <td>2019-11-21</td>\n",
       "      <td>City View - Sarah's double room.</td>\n",
       "      <td>A good sized room with a comfy double bed and ...</td>\n",
       "      <td>The room is in an old Victorian house and has ...</td>\n",
       "      <td>A good sized room with a comfy double bed and ...</td>\n",
       "      <td>none</td>\n",
       "      <td>The neighbourhood is friendly and welcoming; m...</td>\n",
       "      <td>...</td>\n",
       "      <td>f</td>\n",
       "      <td>f</td>\n",
       "      <td>strict_14_with_grace_period</td>\n",
       "      <td>t</td>\n",
       "      <td>f</td>\n",
       "      <td>5</td>\n",
       "      <td>0</td>\n",
       "      <td>5</td>\n",
       "      <td>0</td>\n",
       "      <td>1.98</td>\n",
       "    </tr>\n",
       "    <tr>\n",
       "      <td>1</td>\n",
       "      <td>117122</td>\n",
       "      <td>https://www.airbnb.com/rooms/117122</td>\n",
       "      <td>20191121092348</td>\n",
       "      <td>2019-11-21</td>\n",
       "      <td>City Centre-Waterside Retreat</td>\n",
       "      <td>My Harbourside apartment centrally located min...</td>\n",
       "      <td>A quiet, serene apartment in Bristol city cent...</td>\n",
       "      <td>My Harbourside apartment centrally located min...</td>\n",
       "      <td>none</td>\n",
       "      <td>This area is on the water and has splendid vie...</td>\n",
       "      <td>...</td>\n",
       "      <td>f</td>\n",
       "      <td>f</td>\n",
       "      <td>flexible</td>\n",
       "      <td>f</td>\n",
       "      <td>f</td>\n",
       "      <td>1</td>\n",
       "      <td>0</td>\n",
       "      <td>1</td>\n",
       "      <td>0</td>\n",
       "      <td>1.39</td>\n",
       "    </tr>\n",
       "  </tbody>\n",
       "</table>\n",
       "<p>2 rows × 106 columns</p>\n",
       "</div>"
      ],
      "text/plain": [
       "       id                          listing_url       scrape_id last_scraped  \\\n",
       "0   70820   https://www.airbnb.com/rooms/70820  20191121092348   2019-11-21   \n",
       "1  117122  https://www.airbnb.com/rooms/117122  20191121092348   2019-11-21   \n",
       "\n",
       "                               name  \\\n",
       "0  City View - Sarah's double room.   \n",
       "1     City Centre-Waterside Retreat   \n",
       "\n",
       "                                             summary  \\\n",
       "0  A good sized room with a comfy double bed and ...   \n",
       "1  My Harbourside apartment centrally located min...   \n",
       "\n",
       "                                               space  \\\n",
       "0  The room is in an old Victorian house and has ...   \n",
       "1  A quiet, serene apartment in Bristol city cent...   \n",
       "\n",
       "                                         description experiences_offered  \\\n",
       "0  A good sized room with a comfy double bed and ...                none   \n",
       "1  My Harbourside apartment centrally located min...                none   \n",
       "\n",
       "                               neighborhood_overview  ... instant_bookable  \\\n",
       "0  The neighbourhood is friendly and welcoming; m...  ...                f   \n",
       "1  This area is on the water and has splendid vie...  ...                f   \n",
       "\n",
       "  is_business_travel_ready          cancellation_policy  \\\n",
       "0                        f  strict_14_with_grace_period   \n",
       "1                        f                     flexible   \n",
       "\n",
       "  require_guest_profile_picture require_guest_phone_verification  \\\n",
       "0                             t                                f   \n",
       "1                             f                                f   \n",
       "\n",
       "   calculated_host_listings_count  \\\n",
       "0                               5   \n",
       "1                               1   \n",
       "\n",
       "   calculated_host_listings_count_entire_homes  \\\n",
       "0                                            0   \n",
       "1                                            0   \n",
       "\n",
       "  calculated_host_listings_count_private_rooms  \\\n",
       "0                                            5   \n",
       "1                                            1   \n",
       "\n",
       "   calculated_host_listings_count_shared_rooms  reviews_per_month  \n",
       "0                                            0               1.98  \n",
       "1                                            0               1.39  \n",
       "\n",
       "[2 rows x 106 columns]"
      ]
     },
     "execution_count": 4,
     "metadata": {},
     "output_type": "execute_result"
    }
   ],
   "source": [
    "#Look at a the head of the listing dataframe to start to understand the data \n",
    "#change the value to view more of the dataframe \n",
    "listings.head(2) "
   ]
  },
  {
   "cell_type": "code",
   "execution_count": 5,
   "metadata": {},
   "outputs": [
    {
     "data": {
      "text/html": [
       "<div>\n",
       "<style scoped>\n",
       "    .dataframe tbody tr th:only-of-type {\n",
       "        vertical-align: middle;\n",
       "    }\n",
       "\n",
       "    .dataframe tbody tr th {\n",
       "        vertical-align: top;\n",
       "    }\n",
       "\n",
       "    .dataframe thead th {\n",
       "        text-align: right;\n",
       "    }\n",
       "</style>\n",
       "<table border=\"1\" class=\"dataframe\">\n",
       "  <thead>\n",
       "    <tr style=\"text-align: right;\">\n",
       "      <th></th>\n",
       "      <th>listing_id</th>\n",
       "      <th>date</th>\n",
       "      <th>available</th>\n",
       "      <th>price</th>\n",
       "      <th>adjusted_price</th>\n",
       "      <th>minimum_nights</th>\n",
       "      <th>maximum_nights</th>\n",
       "    </tr>\n",
       "  </thead>\n",
       "  <tbody>\n",
       "    <tr>\n",
       "      <td>0</td>\n",
       "      <td>70820</td>\n",
       "      <td>2019-11-21</td>\n",
       "      <td>f</td>\n",
       "      <td>$29.00</td>\n",
       "      <td>$29.00</td>\n",
       "      <td>7</td>\n",
       "      <td>28</td>\n",
       "    </tr>\n",
       "    <tr>\n",
       "      <td>1</td>\n",
       "      <td>146407</td>\n",
       "      <td>2019-11-21</td>\n",
       "      <td>f</td>\n",
       "      <td>$24.00</td>\n",
       "      <td>$24.00</td>\n",
       "      <td>3</td>\n",
       "      <td>280</td>\n",
       "    </tr>\n",
       "  </tbody>\n",
       "</table>\n",
       "</div>"
      ],
      "text/plain": [
       "   listing_id        date available   price adjusted_price  minimum_nights  \\\n",
       "0       70820  2019-11-21         f  $29.00         $29.00               7   \n",
       "1      146407  2019-11-21         f  $24.00         $24.00               3   \n",
       "\n",
       "   maximum_nights  \n",
       "0              28  \n",
       "1             280  "
      ]
     },
     "execution_count": 5,
     "metadata": {},
     "output_type": "execute_result"
    }
   ],
   "source": [
    "#Look at a the head of the calendar dataframe to start to understand the data \n",
    "#change the value to view more of the dataframe\n",
    "calendar.head(2) "
   ]
  },
  {
   "cell_type": "code",
   "execution_count": 6,
   "metadata": {
    "scrolled": true
   },
   "outputs": [
    {
     "data": {
      "text/html": [
       "<div>\n",
       "<style scoped>\n",
       "    .dataframe tbody tr th:only-of-type {\n",
       "        vertical-align: middle;\n",
       "    }\n",
       "\n",
       "    .dataframe tbody tr th {\n",
       "        vertical-align: top;\n",
       "    }\n",
       "\n",
       "    .dataframe thead th {\n",
       "        text-align: right;\n",
       "    }\n",
       "</style>\n",
       "<table border=\"1\" class=\"dataframe\">\n",
       "  <thead>\n",
       "    <tr style=\"text-align: right;\">\n",
       "      <th></th>\n",
       "      <th>listing_id</th>\n",
       "      <th>id</th>\n",
       "      <th>date</th>\n",
       "      <th>reviewer_id</th>\n",
       "      <th>reviewer_name</th>\n",
       "      <th>comments</th>\n",
       "    </tr>\n",
       "  </thead>\n",
       "  <tbody>\n",
       "    <tr>\n",
       "      <td>0</td>\n",
       "      <td>70820</td>\n",
       "      <td>8163487</td>\n",
       "      <td>2013-10-18</td>\n",
       "      <td>7538116</td>\n",
       "      <td>Neralee</td>\n",
       "      <td>We loved our stay with Sarah in Bristol. She w...</td>\n",
       "    </tr>\n",
       "    <tr>\n",
       "      <td>1</td>\n",
       "      <td>70820</td>\n",
       "      <td>8397676</td>\n",
       "      <td>2013-10-28</td>\n",
       "      <td>9601180</td>\n",
       "      <td>Terry</td>\n",
       "      <td>Sarah gave us and Laddie our dog a very warm w...</td>\n",
       "    </tr>\n",
       "  </tbody>\n",
       "</table>\n",
       "</div>"
      ],
      "text/plain": [
       "   listing_id       id        date  reviewer_id reviewer_name  \\\n",
       "0       70820  8163487  2013-10-18      7538116       Neralee   \n",
       "1       70820  8397676  2013-10-28      9601180         Terry   \n",
       "\n",
       "                                            comments  \n",
       "0  We loved our stay with Sarah in Bristol. She w...  \n",
       "1  Sarah gave us and Laddie our dog a very warm w...  "
      ]
     },
     "execution_count": 6,
     "metadata": {},
     "output_type": "execute_result"
    }
   ],
   "source": [
    "#Look at a the head of the calendar dataframe to start to understand the data \n",
    "#change the value to view more of the dataframe\n",
    "reviews.head(2) "
   ]
  },
  {
   "cell_type": "markdown",
   "metadata": {},
   "source": [
    "After looking at the above data will concentrate on the listings and calendar dataframes for this analysis "
   ]
  },
  {
   "cell_type": "code",
   "execution_count": 7,
   "metadata": {},
   "outputs": [
    {
     "name": "stdout",
     "output_type": "stream",
     "text": [
      "<class 'pandas.core.frame.DataFrame'>\n",
      "RangeIndex: 2703 entries, 0 to 2702\n",
      "Columns: 106 entries, id to reviews_per_month\n",
      "dtypes: float64(23), int64(23), object(60)\n",
      "memory usage: 2.2+ MB\n"
     ]
    }
   ],
   "source": [
    "# try to understand the breakdown of the listings dataframe \n",
    "# there are a large number of columns , will look to drop some \n",
    "# need more visibity of how the data is structured \n",
    "listings.info()"
   ]
  },
  {
   "cell_type": "code",
   "execution_count": 8,
   "metadata": {},
   "outputs": [
    {
     "name": "stdout",
     "output_type": "stream",
     "text": [
      "<class 'pandas.core.frame.DataFrame'>\n",
      "RangeIndex: 986595 entries, 0 to 986594\n",
      "Data columns (total 7 columns):\n",
      "listing_id        986595 non-null int64\n",
      "date              986595 non-null object\n",
      "available         986595 non-null object\n",
      "price             986595 non-null object\n",
      "adjusted_price    986595 non-null object\n",
      "minimum_nights    986595 non-null int64\n",
      "maximum_nights    986595 non-null int64\n",
      "dtypes: int64(3), object(4)\n",
      "memory usage: 52.7+ MB\n"
     ]
    }
   ],
   "source": [
    "#try to understand the breakdown of the calendar dataframe \n",
    "#need to convert data types e.g. price , date \n",
    "calendar.info()"
   ]
  },
  {
   "cell_type": "code",
   "execution_count": 9,
   "metadata": {},
   "outputs": [
    {
     "data": {
      "image/png": "[encoded data removed]",
      "text/plain": [
       "<Figure size 432x288 with 4 Axes>"
      ]
     },
     "metadata": {
      "needs_background": "light"
     },
     "output_type": "display_data"
    }
   ],
   "source": [
    "calendar.hist();"
   ]
  },
  {
   "cell_type": "markdown",
   "metadata": {},
   "source": [
    "Show a percentage split of the Property types   "
   ]
  },
  {
   "cell_type": "code",
   "execution_count": 10,
   "metadata": {},
   "outputs": [
    {
     "data": {
      "text/plain": [
       "Index(['id', 'listing_url', 'scrape_id', 'last_scraped', 'name', 'summary',\n",
       "       'space', 'description', 'experiences_offered', 'neighborhood_overview',\n",
       "       ...\n",
       "       'instant_bookable', 'is_business_travel_ready', 'cancellation_policy',\n",
       "       'require_guest_profile_picture', 'require_guest_phone_verification',\n",
       "       'calculated_host_listings_count',\n",
       "       'calculated_host_listings_count_entire_homes',\n",
       "       'calculated_host_listings_count_private_rooms',\n",
       "       'calculated_host_listings_count_shared_rooms', 'reviews_per_month'],\n",
       "      dtype='object', length=106)"
      ]
     },
     "execution_count": 10,
     "metadata": {},
     "output_type": "execute_result"
    }
   ],
   "source": [
    "listings.columns"
   ]
  },
  {
   "cell_type": "code",
   "execution_count": 11,
   "metadata": {},
   "outputs": [
    {
     "name": "stdout",
     "output_type": "stream",
     "text": [
      "['id' 'listing_url' 'scrape_id' 'last_scraped' 'name' 'summary' 'space'\n",
      " 'description' 'experiences_offered' 'neighborhood_overview' 'notes'\n",
      " 'transit' 'access' 'interaction' 'house_rules' 'thumbnail_url'\n",
      " 'medium_url' 'picture_url' 'xl_picture_url' 'host_id' 'host_url'\n",
      " 'host_name' 'host_since' 'host_location' 'host_about'\n",
      " 'host_response_time' 'host_response_rate' 'host_acceptance_rate'\n",
      " 'host_is_superhost' 'host_thumbnail_url' 'host_picture_url'\n",
      " 'host_neighbourhood' 'host_listings_count' 'host_total_listings_count'\n",
      " 'host_verifications' 'host_has_profile_pic' 'host_identity_verified'\n",
      " 'street' 'neighbourhood' 'neighbourhood_cleansed'\n",
      " 'neighbourhood_group_cleansed' 'city' 'state' 'zipcode' 'market'\n",
      " 'smart_location' 'country_code' 'country' 'latitude' 'longitude'\n",
      " 'is_location_exact' 'property_type' 'room_type' 'accommodates'\n",
      " 'bathrooms' 'bedrooms' 'beds' 'bed_type' 'amenities' 'square_feet'\n",
      " 'price' 'weekly_price' 'monthly_price' 'security_deposit' 'cleaning_fee'\n",
      " 'guests_included' 'extra_people' 'minimum_nights' 'maximum_nights'\n",
      " 'minimum_minimum_nights' 'maximum_minimum_nights'\n",
      " 'minimum_maximum_nights' 'maximum_maximum_nights'\n",
      " 'minimum_nights_avg_ntm' 'maximum_nights_avg_ntm' 'calendar_updated'\n",
      " 'has_availability' 'availability_30' 'availability_60' 'availability_90'\n",
      " 'availability_365' 'calendar_last_scraped' 'number_of_reviews'\n",
      " 'number_of_reviews_ltm' 'first_review' 'last_review'\n",
      " 'review_scores_rating' 'review_scores_accuracy'\n",
      " 'review_scores_cleanliness' 'review_scores_checkin'\n",
      " 'review_scores_communication' 'review_scores_location'\n",
      " 'review_scores_value' 'requires_license' 'license' 'jurisdiction_names'\n",
      " 'instant_bookable' 'is_business_travel_ready' 'cancellation_policy'\n",
      " 'require_guest_profile_picture' 'require_guest_phone_verification'\n",
      " 'calculated_host_listings_count'\n",
      " 'calculated_host_listings_count_entire_homes'\n",
      " 'calculated_host_listings_count_private_rooms'\n",
      " 'calculated_host_listings_count_shared_rooms' 'reviews_per_month']\n"
     ]
    }
   ],
   "source": [
    "print(listings.columns.values)"
   ]
  },
  {
   "cell_type": "code",
   "execution_count": 12,
   "metadata": {},
   "outputs": [
    {
     "data": {
      "text/plain": [
       "Apartment                 0.389937\n",
       "House                     0.359970\n",
       "Townhouse                 0.094710\n",
       "Serviced apartment        0.061043\n",
       "Bed and breakfast         0.024787\n",
       "Condominium               0.019978\n",
       "Loft                      0.008879\n",
       "Bungalow                  0.006289\n",
       "Guest suite               0.006289\n",
       "Guesthouse                0.004809\n",
       "Camper/RV                 0.004070\n",
       "Other                     0.003330\n",
       "Tiny house                0.003330\n",
       "Cottage                   0.002590\n",
       "Cabin                     0.001850\n",
       "Hotel                     0.001480\n",
       "Aparthotel                0.001110\n",
       "Barn                      0.000740\n",
       "Hut                       0.000740\n",
       "Boat                      0.000740\n",
       "Villa                     0.000370\n",
       "Hostel                    0.000370\n",
       "Castle                    0.000370\n",
       "Yurt                      0.000370\n",
       "Earth house               0.000370\n",
       "Lighthouse                0.000370\n",
       "Boutique hotel            0.000370\n",
       "Casa particular (Cuba)    0.000370\n",
       "Tent                      0.000370\n",
       "Name: property_type, dtype: float64"
      ]
     },
     "execution_count": 12,
     "metadata": {},
     "output_type": "execute_result"
    }
   ],
   "source": [
    "listings['property_type'].value_counts()/(listings['property_type'].shape[0]-sum(listings['property_type'].isnull())) "
   ]
  },
  {
   "cell_type": "code",
   "execution_count": 13,
   "metadata": {},
   "outputs": [
    {
     "data": {
      "text/plain": [
       "365"
      ]
     },
     "execution_count": 13,
     "metadata": {},
     "output_type": "execute_result"
    }
   ],
   "source": [
    "#are there a full years worth of values \n",
    "calendar['date'].nunique()"
   ]
  },
  {
   "cell_type": "code",
   "execution_count": 14,
   "metadata": {},
   "outputs": [
    {
     "data": {
      "text/plain": [
       "True"
      ]
     },
     "execution_count": 14,
     "metadata": {},
     "output_type": "execute_result"
    }
   ],
   "source": [
    "#do the number of listings match the the unique listings in calendar ?\n",
    "\n",
    "calendar['listing_id'].nunique() == listings['id'].nunique()"
   ]
  },
  {
   "cell_type": "code",
   "execution_count": 15,
   "metadata": {},
   "outputs": [
    {
     "data": {
      "text/plain": [
       "Index(['listing_id', 'date', 'available', 'price', 'adjusted_price',\n",
       "       'minimum_nights', 'maximum_nights'],\n",
       "      dtype='object')"
      ]
     },
     "execution_count": 15,
     "metadata": {},
     "output_type": "execute_result"
    }
   ],
   "source": [
    "#view the available columns availble \n",
    "calendar.columns"
   ]
  },
  {
   "cell_type": "code",
   "execution_count": 16,
   "metadata": {},
   "outputs": [],
   "source": [
    "#take out the columns that arent going to be used for this analysis \n",
    "calendar_fix = calendar[['listing_id', 'date', 'available', 'price']]"
   ]
  },
  {
   "cell_type": "code",
   "execution_count": 17,
   "metadata": {},
   "outputs": [
    {
     "name": "stdout",
     "output_type": "stream",
     "text": [
      "<class 'pandas.core.frame.DataFrame'>\n",
      "RangeIndex: 986595 entries, 0 to 986594\n",
      "Data columns (total 4 columns):\n",
      "listing_id    986595 non-null int64\n",
      "date          986595 non-null object\n",
      "available     986595 non-null object\n",
      "price         986595 non-null object\n",
      "dtypes: int64(1), object(3)\n",
      "memory usage: 30.1+ MB\n"
     ]
    }
   ],
   "source": [
    "#check the above worked \n",
    "calendar_fix.info()"
   ]
  },
  {
   "cell_type": "code",
   "execution_count": 18,
   "metadata": {},
   "outputs": [
    {
     "name": "stderr",
     "output_type": "stream",
     "text": [
      "C:\\Users\\Chad\\Anaconda3\\lib\\site-packages\\ipykernel_launcher.py:2: SettingWithCopyWarning: \n",
      "A value is trying to be set on a copy of a slice from a DataFrame.\n",
      "Try using .loc[row_indexer,col_indexer] = value instead\n",
      "\n",
      "See the caveats in the documentation: http://pandas.pydata.org/pandas-docs/stable/user_guide/indexing.html#returning-a-view-versus-a-copy\n",
      "  \n"
     ]
    }
   ],
   "source": [
    "#convert the date colomn from object to to a date  \n",
    "calendar_fix['date']=pd.to_datetime(calendar_fix['date']) ;"
   ]
  },
  {
   "cell_type": "code",
   "execution_count": 19,
   "metadata": {},
   "outputs": [],
   "source": [
    "#create a dataframe with the listing id and room type to selectonly the 'Entire home/apt' because only intersted in tenting entire house \n",
    "listings_room_type = listings[['id' , 'room_type']]"
   ]
  },
  {
   "cell_type": "code",
   "execution_count": 20,
   "metadata": {},
   "outputs": [
    {
     "name": "stdout",
     "output_type": "stream",
     "text": [
      "<class 'pandas.core.frame.DataFrame'>\n",
      "RangeIndex: 2703 entries, 0 to 2702\n",
      "Data columns (total 2 columns):\n",
      "id           2703 non-null int64\n",
      "room_type    2703 non-null object\n",
      "dtypes: int64(1), object(1)\n",
      "memory usage: 42.4+ KB\n"
     ]
    }
   ],
   "source": [
    "#check the above worked \n",
    "listings_room_type.info()"
   ]
  },
  {
   "cell_type": "code",
   "execution_count": 21,
   "metadata": {},
   "outputs": [],
   "source": [
    "#merge the room type with the calendar \n",
    "calendar_fix = pd.merge(calendar_fix , listings_room_type , how='left', left_on='listing_id', right_on='id')"
   ]
  },
  {
   "cell_type": "code",
   "execution_count": 22,
   "metadata": {},
   "outputs": [
    {
     "data": {
      "text/plain": [
       "f    650452\n",
       "t    336143\n",
       "Name: available, dtype: int64"
      ]
     },
     "execution_count": 22,
     "metadata": {},
     "output_type": "execute_result"
    }
   ],
   "source": [
    "#count the 't'rue and 'f'alse values  \n",
    "calendar_fix['available'].value_counts()"
   ]
  },
  {
   "cell_type": "code",
   "execution_count": 23,
   "metadata": {},
   "outputs": [],
   "source": [
    "#convert the t aand f to numeric values 1 and 0 \n",
    "calendar_fix['available']= calendar_fix['available'].map( lambda x: 0 if x == 'f' else 1)"
   ]
  },
  {
   "cell_type": "code",
   "execution_count": 24,
   "metadata": {},
   "outputs": [
    {
     "data": {
      "text/plain": [
       "0    650452\n",
       "1    336143\n",
       "Name: available, dtype: int64"
      ]
     },
     "execution_count": 24,
     "metadata": {},
     "output_type": "execute_result"
    }
   ],
   "source": [
    "#check got it the right way around \n",
    "calendar_fix['available'].value_counts()"
   ]
  },
  {
   "cell_type": "code",
   "execution_count": 25,
   "metadata": {},
   "outputs": [
    {
     "data": {
      "text/plain": [
       "(986595, 6)"
      ]
     },
     "execution_count": 25,
     "metadata": {},
     "output_type": "execute_result"
    }
   ],
   "source": [
    "calendar_fix.shape"
   ]
  },
  {
   "cell_type": "code",
   "execution_count": 26,
   "metadata": {},
   "outputs": [],
   "source": [
    "#create new dataframe with only the calendar entries associted with Entire homes or apartmments \n",
    "calendar_availiblity = calendar_fix[calendar_fix.room_type.str.contains('Entire home/apt')]"
   ]
  },
  {
   "cell_type": "code",
   "execution_count": 27,
   "metadata": {},
   "outputs": [
    {
     "data": {
      "text/html": [
       "<div>\n",
       "<style scoped>\n",
       "    .dataframe tbody tr th:only-of-type {\n",
       "        vertical-align: middle;\n",
       "    }\n",
       "\n",
       "    .dataframe tbody tr th {\n",
       "        vertical-align: top;\n",
       "    }\n",
       "\n",
       "    .dataframe thead th {\n",
       "        text-align: right;\n",
       "    }\n",
       "</style>\n",
       "<table border=\"1\" class=\"dataframe\">\n",
       "  <thead>\n",
       "    <tr style=\"text-align: right;\">\n",
       "      <th></th>\n",
       "      <th>listing_id</th>\n",
       "      <th>date</th>\n",
       "      <th>available</th>\n",
       "      <th>price</th>\n",
       "      <th>id</th>\n",
       "      <th>room_type</th>\n",
       "    </tr>\n",
       "  </thead>\n",
       "  <tbody>\n",
       "    <tr>\n",
       "      <td>1591</td>\n",
       "      <td>4249808</td>\n",
       "      <td>2019-11-21</td>\n",
       "      <td>0</td>\n",
       "      <td>$80.00</td>\n",
       "      <td>4249808</td>\n",
       "      <td>Entire home/apt</td>\n",
       "    </tr>\n",
       "    <tr>\n",
       "      <td>1592</td>\n",
       "      <td>4249808</td>\n",
       "      <td>2019-11-22</td>\n",
       "      <td>0</td>\n",
       "      <td>$80.00</td>\n",
       "      <td>4249808</td>\n",
       "      <td>Entire home/apt</td>\n",
       "    </tr>\n",
       "    <tr>\n",
       "      <td>1593</td>\n",
       "      <td>4249808</td>\n",
       "      <td>2019-11-23</td>\n",
       "      <td>0</td>\n",
       "      <td>$80.00</td>\n",
       "      <td>4249808</td>\n",
       "      <td>Entire home/apt</td>\n",
       "    </tr>\n",
       "    <tr>\n",
       "      <td>1594</td>\n",
       "      <td>4249808</td>\n",
       "      <td>2019-11-24</td>\n",
       "      <td>0</td>\n",
       "      <td>$80.00</td>\n",
       "      <td>4249808</td>\n",
       "      <td>Entire home/apt</td>\n",
       "    </tr>\n",
       "    <tr>\n",
       "      <td>1595</td>\n",
       "      <td>4249808</td>\n",
       "      <td>2019-11-25</td>\n",
       "      <td>0</td>\n",
       "      <td>$80.00</td>\n",
       "      <td>4249808</td>\n",
       "      <td>Entire home/apt</td>\n",
       "    </tr>\n",
       "  </tbody>\n",
       "</table>\n",
       "</div>"
      ],
      "text/plain": [
       "      listing_id       date  available   price       id        room_type\n",
       "1591     4249808 2019-11-21          0  $80.00  4249808  Entire home/apt\n",
       "1592     4249808 2019-11-22          0  $80.00  4249808  Entire home/apt\n",
       "1593     4249808 2019-11-23          0  $80.00  4249808  Entire home/apt\n",
       "1594     4249808 2019-11-24          0  $80.00  4249808  Entire home/apt\n",
       "1595     4249808 2019-11-25          0  $80.00  4249808  Entire home/apt"
      ]
     },
     "execution_count": 27,
     "metadata": {},
     "output_type": "execute_result"
    }
   ],
   "source": [
    "# check the above worked \n",
    "calendar_availiblity.head()"
   ]
  },
  {
   "cell_type": "code",
   "execution_count": 28,
   "metadata": {},
   "outputs": [
    {
     "data": {
      "text/plain": [
       "2020-05-18    1362\n",
       "2020-09-22    1362\n",
       "2020-06-10    1362\n",
       "2020-02-27    1362\n",
       "2020-08-08    1362\n",
       "              ... \n",
       "2020-04-18    1362\n",
       "2020-09-02    1362\n",
       "2020-01-05    1362\n",
       "2020-05-21    1362\n",
       "2020-09-06    1362\n",
       "Name: date, Length: 365, dtype: int64"
      ]
     },
     "execution_count": 28,
     "metadata": {},
     "output_type": "execute_result"
    }
   ],
   "source": [
    "#check the number of listings per day \n",
    "calendar_availiblity['date'].value_counts()"
   ]
  },
  {
   "cell_type": "code",
   "execution_count": 29,
   "metadata": {},
   "outputs": [
    {
     "name": "stderr",
     "output_type": "stream",
     "text": [
      "C:\\Users\\Chad\\Anaconda3\\lib\\site-packages\\ipykernel_launcher.py:2: SettingWithCopyWarning: \n",
      "A value is trying to be set on a copy of a slice from a DataFrame.\n",
      "Try using .loc[row_indexer,col_indexer] = value instead\n",
      "\n",
      "See the caveats in the documentation: http://pandas.pydata.org/pandas-docs/stable/user_guide/indexing.html#returning-a-view-versus-a-copy\n",
      "  \n"
     ]
    }
   ],
   "source": [
    "#create a new column called month using the date column \n",
    "calendar_availiblity['month']=pd.DatetimeIndex(calendar_availiblity['date']).month ;"
   ]
  },
  {
   "cell_type": "code",
   "execution_count": 30,
   "metadata": {},
   "outputs": [],
   "source": [
    "#create a new dataframe grouped by month showing statistics for data - will use the mean vaalue \n",
    "calendar_availiblity=calendar_availiblity['available'].groupby(calendar_availiblity['month']).describe()"
   ]
  },
  {
   "cell_type": "code",
   "execution_count": 31,
   "metadata": {},
   "outputs": [
    {
     "data": {
      "text/html": [
       "<div>\n",
       "<style scoped>\n",
       "    .dataframe tbody tr th:only-of-type {\n",
       "        vertical-align: middle;\n",
       "    }\n",
       "\n",
       "    .dataframe tbody tr th {\n",
       "        vertical-align: top;\n",
       "    }\n",
       "\n",
       "    .dataframe thead th {\n",
       "        text-align: right;\n",
       "    }\n",
       "</style>\n",
       "<table border=\"1\" class=\"dataframe\">\n",
       "  <thead>\n",
       "    <tr style=\"text-align: right;\">\n",
       "      <th></th>\n",
       "      <th>count</th>\n",
       "      <th>mean</th>\n",
       "      <th>std</th>\n",
       "      <th>min</th>\n",
       "      <th>25%</th>\n",
       "      <th>50%</th>\n",
       "      <th>75%</th>\n",
       "      <th>max</th>\n",
       "    </tr>\n",
       "    <tr>\n",
       "      <th>month</th>\n",
       "      <th></th>\n",
       "      <th></th>\n",
       "      <th></th>\n",
       "      <th></th>\n",
       "      <th></th>\n",
       "      <th></th>\n",
       "      <th></th>\n",
       "      <th></th>\n",
       "    </tr>\n",
       "  </thead>\n",
       "  <tbody>\n",
       "    <tr>\n",
       "      <td>1</td>\n",
       "      <td>42222.0</td>\n",
       "      <td>0.445550</td>\n",
       "      <td>0.497032</td>\n",
       "      <td>0.0</td>\n",
       "      <td>0.0</td>\n",
       "      <td>0.0</td>\n",
       "      <td>1.0</td>\n",
       "      <td>1.0</td>\n",
       "    </tr>\n",
       "    <tr>\n",
       "      <td>2</td>\n",
       "      <td>39498.0</td>\n",
       "      <td>0.429237</td>\n",
       "      <td>0.494974</td>\n",
       "      <td>0.0</td>\n",
       "      <td>0.0</td>\n",
       "      <td>0.0</td>\n",
       "      <td>1.0</td>\n",
       "      <td>1.0</td>\n",
       "    </tr>\n",
       "    <tr>\n",
       "      <td>3</td>\n",
       "      <td>42222.0</td>\n",
       "      <td>0.388518</td>\n",
       "      <td>0.487419</td>\n",
       "      <td>0.0</td>\n",
       "      <td>0.0</td>\n",
       "      <td>0.0</td>\n",
       "      <td>1.0</td>\n",
       "      <td>1.0</td>\n",
       "    </tr>\n",
       "    <tr>\n",
       "      <td>4</td>\n",
       "      <td>40860.0</td>\n",
       "      <td>0.403426</td>\n",
       "      <td>0.490591</td>\n",
       "      <td>0.0</td>\n",
       "      <td>0.0</td>\n",
       "      <td>0.0</td>\n",
       "      <td>1.0</td>\n",
       "      <td>1.0</td>\n",
       "    </tr>\n",
       "    <tr>\n",
       "      <td>5</td>\n",
       "      <td>42222.0</td>\n",
       "      <td>0.357373</td>\n",
       "      <td>0.479232</td>\n",
       "      <td>0.0</td>\n",
       "      <td>0.0</td>\n",
       "      <td>0.0</td>\n",
       "      <td>1.0</td>\n",
       "      <td>1.0</td>\n",
       "    </tr>\n",
       "    <tr>\n",
       "      <td>6</td>\n",
       "      <td>40860.0</td>\n",
       "      <td>0.280445</td>\n",
       "      <td>0.449222</td>\n",
       "      <td>0.0</td>\n",
       "      <td>0.0</td>\n",
       "      <td>0.0</td>\n",
       "      <td>1.0</td>\n",
       "      <td>1.0</td>\n",
       "    </tr>\n",
       "    <tr>\n",
       "      <td>7</td>\n",
       "      <td>42222.0</td>\n",
       "      <td>0.282649</td>\n",
       "      <td>0.450292</td>\n",
       "      <td>0.0</td>\n",
       "      <td>0.0</td>\n",
       "      <td>0.0</td>\n",
       "      <td>1.0</td>\n",
       "      <td>1.0</td>\n",
       "    </tr>\n",
       "    <tr>\n",
       "      <td>8</td>\n",
       "      <td>42222.0</td>\n",
       "      <td>0.285230</td>\n",
       "      <td>0.451529</td>\n",
       "      <td>0.0</td>\n",
       "      <td>0.0</td>\n",
       "      <td>0.0</td>\n",
       "      <td>1.0</td>\n",
       "      <td>1.0</td>\n",
       "    </tr>\n",
       "    <tr>\n",
       "      <td>9</td>\n",
       "      <td>40860.0</td>\n",
       "      <td>0.270093</td>\n",
       "      <td>0.444013</td>\n",
       "      <td>0.0</td>\n",
       "      <td>0.0</td>\n",
       "      <td>0.0</td>\n",
       "      <td>1.0</td>\n",
       "      <td>1.0</td>\n",
       "    </tr>\n",
       "    <tr>\n",
       "      <td>10</td>\n",
       "      <td>42222.0</td>\n",
       "      <td>0.270309</td>\n",
       "      <td>0.444125</td>\n",
       "      <td>0.0</td>\n",
       "      <td>0.0</td>\n",
       "      <td>0.0</td>\n",
       "      <td>1.0</td>\n",
       "      <td>1.0</td>\n",
       "    </tr>\n",
       "    <tr>\n",
       "      <td>11</td>\n",
       "      <td>39498.0</td>\n",
       "      <td>0.239556</td>\n",
       "      <td>0.426818</td>\n",
       "      <td>0.0</td>\n",
       "      <td>0.0</td>\n",
       "      <td>0.0</td>\n",
       "      <td>0.0</td>\n",
       "      <td>1.0</td>\n",
       "    </tr>\n",
       "    <tr>\n",
       "      <td>12</td>\n",
       "      <td>42222.0</td>\n",
       "      <td>0.334210</td>\n",
       "      <td>0.471719</td>\n",
       "      <td>0.0</td>\n",
       "      <td>0.0</td>\n",
       "      <td>0.0</td>\n",
       "      <td>1.0</td>\n",
       "      <td>1.0</td>\n",
       "    </tr>\n",
       "  </tbody>\n",
       "</table>\n",
       "</div>"
      ],
      "text/plain": [
       "         count      mean       std  min  25%  50%  75%  max\n",
       "month                                                      \n",
       "1      42222.0  0.445550  0.497032  0.0  0.0  0.0  1.0  1.0\n",
       "2      39498.0  0.429237  0.494974  0.0  0.0  0.0  1.0  1.0\n",
       "3      42222.0  0.388518  0.487419  0.0  0.0  0.0  1.0  1.0\n",
       "4      40860.0  0.403426  0.490591  0.0  0.0  0.0  1.0  1.0\n",
       "5      42222.0  0.357373  0.479232  0.0  0.0  0.0  1.0  1.0\n",
       "6      40860.0  0.280445  0.449222  0.0  0.0  0.0  1.0  1.0\n",
       "7      42222.0  0.282649  0.450292  0.0  0.0  0.0  1.0  1.0\n",
       "8      42222.0  0.285230  0.451529  0.0  0.0  0.0  1.0  1.0\n",
       "9      40860.0  0.270093  0.444013  0.0  0.0  0.0  1.0  1.0\n",
       "10     42222.0  0.270309  0.444125  0.0  0.0  0.0  1.0  1.0\n",
       "11     39498.0  0.239556  0.426818  0.0  0.0  0.0  0.0  1.0\n",
       "12     42222.0  0.334210  0.471719  0.0  0.0  0.0  1.0  1.0"
      ]
     },
     "execution_count": 31,
     "metadata": {},
     "output_type": "execute_result"
    }
   ],
   "source": [
    "#check below for month 1 (Jan) have 31(days) x 1362(rows per days) = 42222 , number of 0 = 23410 , number of 1 = 1881 , 18812/42222 = 0.445549 \n",
    "#matches the data below so good t proceed \n",
    "calendar_availiblity"
   ]
  },
  {
   "cell_type": "code",
   "execution_count": 32,
   "metadata": {
    "scrolled": true
   },
   "outputs": [
    {
     "data": {
      "image/png": "[encoded data removed]",
      "text/plain": [
       "<Figure size 432x288 with 1 Axes>"
      ]
     },
     "metadata": {
      "needs_background": "light"
     },
     "output_type": "display_data"
    }
   ],
   "source": [
    "#plot line graph showing the availabilty trend across the year \n",
    "line = calendar_availiblity['mean'].plot.line()\n",
    "plt.title('Percentage Units Available to Rent');\n",
    "plt.ylabel('Percntage');\n",
    "plt.xlabel('Month of the year');"
   ]
  },
  {
   "cell_type": "code",
   "execution_count": 33,
   "metadata": {},
   "outputs": [],
   "source": [
    "#create a month column in the calendar fix dataframe to show the month 1-12 \n",
    "calendar_fix['month']=pd.DatetimeIndex(calendar_fix['date']).month#"
   ]
  },
  {
   "cell_type": "code",
   "execution_count": 34,
   "metadata": {},
   "outputs": [],
   "source": [
    "#create a week column in the calendar fix dataframe to show the week 1-52 \n",
    "calendar_fix['week']=pd.DatetimeIndex(calendar_fix['date']).week"
   ]
  },
  {
   "cell_type": "code",
   "execution_count": 35,
   "metadata": {},
   "outputs": [],
   "source": [
    "#create a day column in the calendar fix dataframe to show the day 0-6 ,O=monday  \n",
    "calendar_fix['day']=pd.DatetimeIndex(calendar_fix['date']).dayofweek"
   ]
  },
  {
   "cell_type": "code",
   "execution_count": 36,
   "metadata": {},
   "outputs": [],
   "source": [
    "#cleanup the price column removing , & $ and converting to a type float \n",
    "calendar_fix['price'] = calendar_fix['price'].str.replace(',', '')\n",
    "calendar_fix['price'] = calendar_fix['price'].str.replace('$', '')\n",
    "calendar_fix['price'] = calendar_fix['price'].astype(float)"
   ]
  },
  {
   "cell_type": "code",
   "execution_count": 37,
   "metadata": {},
   "outputs": [],
   "source": [
    "#keep only the entire home/apt listings \n",
    "calendar_price = calendar_fix[calendar_fix.room_type.str.contains('Entire home/apt')]"
   ]
  },
  {
   "cell_type": "code",
   "execution_count": 38,
   "metadata": {},
   "outputs": [
    {
     "data": {
      "text/html": [
       "<div>\n",
       "<style scoped>\n",
       "    .dataframe tbody tr th:only-of-type {\n",
       "        vertical-align: middle;\n",
       "    }\n",
       "\n",
       "    .dataframe tbody tr th {\n",
       "        vertical-align: top;\n",
       "    }\n",
       "\n",
       "    .dataframe thead th {\n",
       "        text-align: right;\n",
       "    }\n",
       "</style>\n",
       "<table border=\"1\" class=\"dataframe\">\n",
       "  <thead>\n",
       "    <tr style=\"text-align: right;\">\n",
       "      <th></th>\n",
       "      <th>listing_id</th>\n",
       "      <th>date</th>\n",
       "      <th>available</th>\n",
       "      <th>price</th>\n",
       "      <th>id</th>\n",
       "      <th>room_type</th>\n",
       "      <th>month</th>\n",
       "      <th>week</th>\n",
       "      <th>day</th>\n",
       "    </tr>\n",
       "  </thead>\n",
       "  <tbody>\n",
       "    <tr>\n",
       "      <td>1591</td>\n",
       "      <td>4249808</td>\n",
       "      <td>2019-11-21</td>\n",
       "      <td>0</td>\n",
       "      <td>80.0</td>\n",
       "      <td>4249808</td>\n",
       "      <td>Entire home/apt</td>\n",
       "      <td>11</td>\n",
       "      <td>47</td>\n",
       "      <td>3</td>\n",
       "    </tr>\n",
       "    <tr>\n",
       "      <td>1592</td>\n",
       "      <td>4249808</td>\n",
       "      <td>2019-11-22</td>\n",
       "      <td>0</td>\n",
       "      <td>80.0</td>\n",
       "      <td>4249808</td>\n",
       "      <td>Entire home/apt</td>\n",
       "      <td>11</td>\n",
       "      <td>47</td>\n",
       "      <td>4</td>\n",
       "    </tr>\n",
       "    <tr>\n",
       "      <td>1593</td>\n",
       "      <td>4249808</td>\n",
       "      <td>2019-11-23</td>\n",
       "      <td>0</td>\n",
       "      <td>80.0</td>\n",
       "      <td>4249808</td>\n",
       "      <td>Entire home/apt</td>\n",
       "      <td>11</td>\n",
       "      <td>47</td>\n",
       "      <td>5</td>\n",
       "    </tr>\n",
       "    <tr>\n",
       "      <td>1594</td>\n",
       "      <td>4249808</td>\n",
       "      <td>2019-11-24</td>\n",
       "      <td>0</td>\n",
       "      <td>80.0</td>\n",
       "      <td>4249808</td>\n",
       "      <td>Entire home/apt</td>\n",
       "      <td>11</td>\n",
       "      <td>47</td>\n",
       "      <td>6</td>\n",
       "    </tr>\n",
       "    <tr>\n",
       "      <td>1595</td>\n",
       "      <td>4249808</td>\n",
       "      <td>2019-11-25</td>\n",
       "      <td>0</td>\n",
       "      <td>80.0</td>\n",
       "      <td>4249808</td>\n",
       "      <td>Entire home/apt</td>\n",
       "      <td>11</td>\n",
       "      <td>48</td>\n",
       "      <td>0</td>\n",
       "    </tr>\n",
       "    <tr>\n",
       "      <td>...</td>\n",
       "      <td>...</td>\n",
       "      <td>...</td>\n",
       "      <td>...</td>\n",
       "      <td>...</td>\n",
       "      <td>...</td>\n",
       "      <td>...</td>\n",
       "      <td>...</td>\n",
       "      <td>...</td>\n",
       "      <td>...</td>\n",
       "    </tr>\n",
       "    <tr>\n",
       "      <td>986225</td>\n",
       "      <td>40232296</td>\n",
       "      <td>2020-11-15</td>\n",
       "      <td>0</td>\n",
       "      <td>200.0</td>\n",
       "      <td>40232296</td>\n",
       "      <td>Entire home/apt</td>\n",
       "      <td>11</td>\n",
       "      <td>46</td>\n",
       "      <td>6</td>\n",
       "    </tr>\n",
       "    <tr>\n",
       "      <td>986226</td>\n",
       "      <td>40232296</td>\n",
       "      <td>2020-11-16</td>\n",
       "      <td>0</td>\n",
       "      <td>200.0</td>\n",
       "      <td>40232296</td>\n",
       "      <td>Entire home/apt</td>\n",
       "      <td>11</td>\n",
       "      <td>47</td>\n",
       "      <td>0</td>\n",
       "    </tr>\n",
       "    <tr>\n",
       "      <td>986227</td>\n",
       "      <td>40232296</td>\n",
       "      <td>2020-11-17</td>\n",
       "      <td>0</td>\n",
       "      <td>200.0</td>\n",
       "      <td>40232296</td>\n",
       "      <td>Entire home/apt</td>\n",
       "      <td>11</td>\n",
       "      <td>47</td>\n",
       "      <td>1</td>\n",
       "    </tr>\n",
       "    <tr>\n",
       "      <td>986228</td>\n",
       "      <td>40232296</td>\n",
       "      <td>2020-11-18</td>\n",
       "      <td>0</td>\n",
       "      <td>200.0</td>\n",
       "      <td>40232296</td>\n",
       "      <td>Entire home/apt</td>\n",
       "      <td>11</td>\n",
       "      <td>47</td>\n",
       "      <td>2</td>\n",
       "    </tr>\n",
       "    <tr>\n",
       "      <td>986229</td>\n",
       "      <td>40232296</td>\n",
       "      <td>2020-11-19</td>\n",
       "      <td>0</td>\n",
       "      <td>200.0</td>\n",
       "      <td>40232296</td>\n",
       "      <td>Entire home/apt</td>\n",
       "      <td>11</td>\n",
       "      <td>47</td>\n",
       "      <td>3</td>\n",
       "    </tr>\n",
       "  </tbody>\n",
       "</table>\n",
       "<p>497130 rows × 9 columns</p>\n",
       "</div>"
      ],
      "text/plain": [
       "        listing_id       date  available  price        id        room_type  \\\n",
       "1591       4249808 2019-11-21          0   80.0   4249808  Entire home/apt   \n",
       "1592       4249808 2019-11-22          0   80.0   4249808  Entire home/apt   \n",
       "1593       4249808 2019-11-23          0   80.0   4249808  Entire home/apt   \n",
       "1594       4249808 2019-11-24          0   80.0   4249808  Entire home/apt   \n",
       "1595       4249808 2019-11-25          0   80.0   4249808  Entire home/apt   \n",
       "...            ...        ...        ...    ...       ...              ...   \n",
       "986225    40232296 2020-11-15          0  200.0  40232296  Entire home/apt   \n",
       "986226    40232296 2020-11-16          0  200.0  40232296  Entire home/apt   \n",
       "986227    40232296 2020-11-17          0  200.0  40232296  Entire home/apt   \n",
       "986228    40232296 2020-11-18          0  200.0  40232296  Entire home/apt   \n",
       "986229    40232296 2020-11-19          0  200.0  40232296  Entire home/apt   \n",
       "\n",
       "        month  week  day  \n",
       "1591       11    47    3  \n",
       "1592       11    47    4  \n",
       "1593       11    47    5  \n",
       "1594       11    47    6  \n",
       "1595       11    48    0  \n",
       "...       ...   ...  ...  \n",
       "986225     11    46    6  \n",
       "986226     11    47    0  \n",
       "986227     11    47    1  \n",
       "986228     11    47    2  \n",
       "986229     11    47    3  \n",
       "\n",
       "[497130 rows x 9 columns]"
      ]
     },
     "execution_count": 38,
     "metadata": {},
     "output_type": "execute_result"
    }
   ],
   "source": [
    "#check \n",
    "calendar_price"
   ]
  },
  {
   "cell_type": "code",
   "execution_count": 39,
   "metadata": {
    "scrolled": true
   },
   "outputs": [
    {
     "data": {
      "image/png": "[encoded data removed]",
      "text/plain": [
       "<Figure size 432x288 with 1 Axes>"
      ]
     },
     "metadata": {
      "needs_background": "light"
     },
     "output_type": "display_data"
    }
   ],
   "source": [
    "#plot of the price distrobution \n",
    "calendar_price.hist('price', range=(0,500), bins =100);\n",
    "plt.title('price range');\n",
    "plt.ylabel('Sum');\n",
    "plt.xlabel('price');"
   ]
  },
  {
   "cell_type": "code",
   "execution_count": 40,
   "metadata": {},
   "outputs": [
    {
     "data": {
      "text/plain": [
       "count    497130.000000\n",
       "mean        114.647686\n",
       "std         123.609148\n",
       "min          15.000000\n",
       "25%          65.000000\n",
       "50%          89.000000\n",
       "75%         124.000000\n",
       "max        5000.000000\n",
       "Name: price, dtype: float64"
      ]
     },
     "execution_count": 40,
     "metadata": {},
     "output_type": "execute_result"
    }
   ],
   "source": [
    "# show the staistics to see mean and std deviation \n",
    "calendar_price['price'].describe()"
   ]
  },
  {
   "cell_type": "code",
   "execution_count": 41,
   "metadata": {},
   "outputs": [],
   "source": [
    "#remove the outlyers by using a rough figure of 500 (mean + 3 x std ) but filtering out prices above £500\n",
    "calendar_price=calendar_price[calendar_price['price'] <= 500]"
   ]
  },
  {
   "cell_type": "code",
   "execution_count": 42,
   "metadata": {},
   "outputs": [
    {
     "data": {
      "image/png": "[encoded data removed]",
      "text/plain": [
       "<Figure size 432x288 with 1 Axes>"
      ]
     },
     "metadata": {
      "needs_background": "light"
     },
     "output_type": "display_data"
    }
   ],
   "source": [
    "#plot showing the distobution with outliers removed \n",
    "calendar_price.hist('price', range=(0,500), bins =100);\n",
    "plt.title('price range');\n",
    "plt.ylabel('Sum');\n",
    "plt.xlabel('price');\n",
    "#sns.distplot(calendar_price['price']) \n",
    "#plt.title('price range');\n",
    "#plt.ylabel('Sum');\n",
    "#plt.xlabel('price');"
   ]
  },
  {
   "cell_type": "code",
   "execution_count": 43,
   "metadata": {},
   "outputs": [
    {
     "data": {
      "text/plain": [
       "count    491312.000000\n",
       "mean        106.029010\n",
       "std          69.365623\n",
       "min          15.000000\n",
       "25%          65.000000\n",
       "50%          88.000000\n",
       "75%         120.000000\n",
       "max         500.000000\n",
       "Name: price, dtype: float64"
      ]
     },
     "execution_count": 43,
     "metadata": {},
     "output_type": "execute_result"
    }
   ],
   "source": [
    "#aagain to show stats now outliers are removed - validation worked \n",
    "calendar_price['price'].describe()"
   ]
  },
  {
   "cell_type": "code",
   "execution_count": 44,
   "metadata": {},
   "outputs": [
    {
     "data": {
      "text/plain": [
       "(80, 130)"
      ]
     },
     "execution_count": 44,
     "metadata": {},
     "output_type": "execute_result"
    },
    {
     "data": {
      "image/png": "[encoded data removed]",
      "text/plain": [
       "<Figure size 432x288 with 1 Axes>"
      ]
     },
     "metadata": {
      "needs_background": "light"
     },
     "output_type": "display_data"
    }
   ],
   "source": [
    "#bar plot of the mean price per month \n",
    "calendar_price.groupby('month')[['price']].mean().plot(kind=\"bar\");\n",
    "plt.title('mean Monthly listing price')\n",
    "plt.ylabel('average price')\n",
    "plt.ylim(80,130)"
   ]
  },
  {
   "cell_type": "code",
   "execution_count": 45,
   "metadata": {},
   "outputs": [
    {
     "data": {
      "text/plain": [
       "(80, 130)"
      ]
     },
     "execution_count": 45,
     "metadata": {},
     "output_type": "execute_result"
    },
    {
     "data": {
      "image/png": "[encoded data removed]",
      "text/plain": [
       "<Figure size 432x288 with 1 Axes>"
      ]
     },
     "metadata": {
      "needs_background": "light"
     },
     "output_type": "display_data"
    }
   ],
   "source": [
    "#more granular plot showing a weekly mean price \n",
    "calendar_price.groupby('week')[['price']].mean().plot(kind=\"line\");\n",
    "plt.title('mean weekly listing price')\n",
    "plt.ylabel('average price')\n",
    "plt.ylim(80,130)"
   ]
  },
  {
   "cell_type": "code",
   "execution_count": 46,
   "metadata": {},
   "outputs": [
    {
     "data": {
      "text/plain": [
       "(80, 130)"
      ]
     },
     "execution_count": 46,
     "metadata": {},
     "output_type": "execute_result"
    },
    {
     "data": {
      "image/png": "[encoded data removed]",
      "text/plain": [
       "<Figure size 432x288 with 1 Axes>"
      ]
     },
     "metadata": {
      "needs_background": "light"
     },
     "output_type": "display_data"
    }
   ],
   "source": [
    "calendar_price.groupby('day')[['price']].mean().plot(kind=\"line\");\n",
    "plt.title('days of the week mean listing price')\n",
    "plt.ylabel('average price')\n",
    "plt.ylim(80,130)"
   ]
  },
  {
   "cell_type": "code",
   "execution_count": 47,
   "metadata": {},
   "outputs": [],
   "source": [
    "#cleanup the listing prices \n",
    "listings['price']=listings['price'].str.replace(',', '')\n",
    "listings['price'] = listings['price'].str.replace('$', '')\n",
    "listings['price'] = listings['price'].astype(float)\n",
    "#removing  colummns with all zero values \n",
    "listings=listings.dropna(how = \"all\" , axis =1)"
   ]
  },
  {
   "cell_type": "code",
   "execution_count": 48,
   "metadata": {},
   "outputs": [
    {
     "data": {
      "image/png": "[encoded data removed]",
      "text/plain": [
       "<Figure size 432x288 with 1 Axes>"
      ]
     },
     "metadata": {
      "needs_background": "light"
     },
     "output_type": "display_data"
    }
   ],
   "source": [
    "# group the listing into neighbourhoods showing the lowest to highest volume of listings  \n",
    "listings.groupby('neighbourhood_cleansed')['id'].count().sort_values().plot(kind=\"bar\") ;\n",
    "plt.title('Volume distribution across neighbourhoods');\n",
    "plt.ylabel('count');\n",
    "plt.xlabel('neighbourhood');"
   ]
  },
  {
   "cell_type": "code",
   "execution_count": 49,
   "metadata": {},
   "outputs": [
    {
     "data": {
      "image/png": "[encoded data removed]",
      "text/plain": [
       "<Figure size 432x288 with 1 Axes>"
      ]
     },
     "metadata": {
      "needs_background": "light"
     },
     "output_type": "display_data"
    }
   ],
   "source": [
    "#mean price for the neighbourhoods \n",
    "listings.groupby('neighbourhood_cleansed')['price'].mean().sort_values().plot(kind=\"bar\") ;"
   ]
  },
  {
   "cell_type": "code",
   "execution_count": 50,
   "metadata": {},
   "outputs": [
    {
     "data": {
      "image/png": "[encoded data removed]",
      "text/plain": [
       "<Figure size 432x288 with 1 Axes>"
      ]
     },
     "metadata": {
      "needs_background": "light"
     },
     "output_type": "display_data"
    }
   ],
   "source": [
    "#breakdown of the listings type \n",
    "(listings['property_type'].value_counts()/(listings['property_type'].shape[0]-sum(listings['property_type'].isnull()))).plot(kind=\"bar\");"
   ]
  },
  {
   "cell_type": "code",
   "execution_count": 51,
   "metadata": {},
   "outputs": [
    {
     "data": {
      "image/png": "[encoded data removed]",
      "text/plain": [
       "<Figure size 432x288 with 1 Axes>"
      ]
     },
     "metadata": {
      "needs_background": "light"
     },
     "output_type": "display_data"
    }
   ],
   "source": [
    "#mean price for the property types \n",
    "listings.groupby('property_type')['price'].mean().sort_values().plot(kind=\"bar\") ;"
   ]
  },
  {
   "cell_type": "code",
   "execution_count": 52,
   "metadata": {},
   "outputs": [
    {
     "data": {
      "image/png": "[encoded data removed]",
      "text/plain": [
       "<Figure size 432x288 with 1 Axes>"
      ]
     },
     "metadata": {
      "needs_background": "light"
     },
     "output_type": "display_data"
    }
   ],
   "source": [
    "(listings['room_type'].value_counts()/(listings['room_type'].shape[0]-sum(listings['room_type'].isnull()))).plot(kind=\"bar\");\n",
    "plt.title('Percenage Split of Listing type');\n",
    "plt.ylabel('Percntage');\n",
    "plt.xlabel('Listing Type');"
   ]
  },
  {
   "cell_type": "code",
   "execution_count": 53,
   "metadata": {},
   "outputs": [],
   "source": [
    "#filtering for only the Entire property \n",
    "listing_clean = listings[listings.room_type.str.contains('Entire home/apt')]"
   ]
  },
  {
   "cell_type": "code",
   "execution_count": 54,
   "metadata": {},
   "outputs": [
    {
     "data": {
      "image/png": "[encoded data removed]",
      "text/plain": [
       "<Figure size 432x288 with 1 Axes>"
      ]
     },
     "metadata": {
      "needs_background": "light"
     },
     "output_type": "display_data"
    }
   ],
   "source": [
    "# group the listing into neighbourhoods showing the lowest to highest volume of listin\n",
    "listing_clean.groupby('neighbourhood_cleansed')['id'].count().sort_values().plot(kind=\"bar\") ;\n",
    "plt.title('Volume distribution across neighbourhoods');\n",
    "plt.ylabel('count');\n",
    "plt.xlabel('neighbourhood');"
   ]
  },
  {
   "cell_type": "code",
   "execution_count": 55,
   "metadata": {},
   "outputs": [
    {
     "data": {
      "image/png": "[encoded data removed]",
      "text/plain": [
       "<Figure size 432x288 with 1 Axes>"
      ]
     },
     "metadata": {
      "needs_background": "light"
     },
     "output_type": "display_data"
    }
   ],
   "source": [
    "listing_clean.groupby('neighbourhood_cleansed')['price'].mean().sort_values().plot(kind=\"bar\") ;\n",
    "plt.title('Mean prices across neighbourhoods');\n",
    "plt.ylabel('average price');\n",
    "plt.xlabel('neighbourhood');"
   ]
  },
  {
   "cell_type": "code",
   "execution_count": 56,
   "metadata": {},
   "outputs": [
    {
     "data": {
      "image/png": "[encoded data removed]",
      "text/plain": [
       "<Figure size 432x288 with 1 Axes>"
      ]
     },
     "metadata": {
      "needs_background": "light"
     },
     "output_type": "display_data"
    }
   ],
   "source": [
    "listing_clean.groupby('property_type')['price'].mean().sort_values().plot(kind=\"bar\") ;\n",
    "plt.title('Mean prices across Property types ');\n",
    "plt.ylabel('average price');\n",
    "plt.xlabel('Type');"
   ]
  },
  {
   "cell_type": "code",
   "execution_count": 57,
   "metadata": {},
   "outputs": [
    {
     "data": {
      "image/png": "[encoded data removed]",
      "text/plain": [
       "<Figure size 432x288 with 1 Axes>"
      ]
     },
     "metadata": {
      "needs_background": "light"
     },
     "output_type": "display_data"
    }
   ],
   "source": [
    "listing_clean.groupby('bedrooms')['price'].mean().plot(kind=\"line\") ;\n",
    "plt.title('Number of beadrooms vs Average property price ');\n",
    "plt.ylabel('average price');"
   ]
  },
  {
   "cell_type": "code",
   "execution_count": 58,
   "metadata": {},
   "outputs": [
    {
     "data": {
      "text/plain": [
       "1.0     497\n",
       "2.0     477\n",
       "3.0     175\n",
       "4.0      84\n",
       "0.0      80\n",
       "5.0      36\n",
       "7.0       5\n",
       "6.0       4\n",
       "8.0       1\n",
       "13.0      1\n",
       "Name: bedrooms, dtype: int64"
      ]
     },
     "execution_count": 58,
     "metadata": {},
     "output_type": "execute_result"
    }
   ],
   "source": [
    "listing_clean['bedrooms'].value_counts()"
   ]
  },
  {
   "cell_type": "code",
   "execution_count": 59,
   "metadata": {},
   "outputs": [
    {
     "data": {
      "image/png": "[encoded data removed]",
      "text/plain": [
       "<Figure size 432x288 with 1 Axes>"
      ]
     },
     "metadata": {
      "needs_background": "light"
     },
     "output_type": "display_data"
    }
   ],
   "source": [
    "listing_clean.groupby('bathrooms')['price'].mean().plot(kind=\"line\") ;\n",
    "plt.title('Number of bathrooms vs Average property price ');\n",
    "plt.ylabel('average price');"
   ]
  },
  {
   "cell_type": "code",
   "execution_count": 60,
   "metadata": {},
   "outputs": [
    {
     "data": {
      "text/plain": [
       "1.0     932\n",
       "2.0     189\n",
       "1.5     118\n",
       "2.5      65\n",
       "3.0      30\n",
       "3.5       9\n",
       "0.5       4\n",
       "4.0       4\n",
       "5.0       3\n",
       "7.0       2\n",
       "0.0       2\n",
       "4.5       2\n",
       "6.0       1\n",
       "12.5      1\n",
       "Name: bathrooms, dtype: int64"
      ]
     },
     "execution_count": 60,
     "metadata": {},
     "output_type": "execute_result"
    }
   ],
   "source": [
    "listing_clean['bathrooms'].value_counts()"
   ]
  },
  {
   "cell_type": "code",
   "execution_count": 61,
   "metadata": {},
   "outputs": [
    {
     "data": {
      "text/plain": [
       "Index(['id', 'listing_url', 'scrape_id', 'last_scraped', 'name', 'summary',\n",
       "       'space', 'description', 'experiences_offered', 'neighborhood_overview',\n",
       "       'notes', 'transit', 'access', 'interaction', 'house_rules',\n",
       "       'picture_url', 'host_id', 'host_url', 'host_name', 'host_since',\n",
       "       'host_location', 'host_about', 'host_response_time',\n",
       "       'host_response_rate', 'host_is_superhost', 'host_thumbnail_url',\n",
       "       'host_picture_url', 'host_neighbourhood', 'host_listings_count',\n",
       "       'host_total_listings_count', 'host_verifications',\n",
       "       'host_has_profile_pic', 'host_identity_verified', 'street',\n",
       "       'neighbourhood_cleansed', 'city', 'state', 'zipcode', 'market',\n",
       "       'smart_location', 'country_code', 'country', 'latitude', 'longitude',\n",
       "       'is_location_exact', 'property_type', 'room_type', 'accommodates',\n",
       "       'bathrooms', 'bedrooms', 'beds', 'bed_type', 'amenities', 'square_feet',\n",
       "       'price', 'weekly_price', 'monthly_price', 'security_deposit',\n",
       "       'cleaning_fee', 'guests_included', 'extra_people', 'minimum_nights',\n",
       "       'maximum_nights', 'minimum_minimum_nights', 'maximum_minimum_nights',\n",
       "       'minimum_maximum_nights', 'maximum_maximum_nights',\n",
       "       'minimum_nights_avg_ntm', 'maximum_nights_avg_ntm', 'calendar_updated',\n",
       "       'has_availability', 'availability_30', 'availability_60',\n",
       "       'availability_90', 'availability_365', 'calendar_last_scraped',\n",
       "       'number_of_reviews', 'number_of_reviews_ltm', 'first_review',\n",
       "       'last_review', 'review_scores_rating', 'review_scores_accuracy',\n",
       "       'review_scores_cleanliness', 'review_scores_checkin',\n",
       "       'review_scores_communication', 'review_scores_location',\n",
       "       'review_scores_value', 'requires_license', 'license',\n",
       "       'instant_bookable', 'is_business_travel_ready', 'cancellation_policy',\n",
       "       'require_guest_profile_picture', 'require_guest_phone_verification',\n",
       "       'calculated_host_listings_count',\n",
       "       'calculated_host_listings_count_entire_homes',\n",
       "       'calculated_host_listings_count_private_rooms',\n",
       "       'calculated_host_listings_count_shared_rooms', 'reviews_per_month'],\n",
       "      dtype='object')"
      ]
     },
     "execution_count": 61,
     "metadata": {},
     "output_type": "execute_result"
    }
   ],
   "source": [
    "listing_clean.columns"
   ]
  },
  {
   "cell_type": "code",
   "execution_count": 62,
   "metadata": {},
   "outputs": [],
   "source": [
    "#Provide a set of columns with more than 50% of the values missing\n",
    "most_missing_cols = set(listing_clean.columns[listing_clean.isnull().mean() > 0.5 ]) "
   ]
  },
  {
   "cell_type": "code",
   "execution_count": 63,
   "metadata": {},
   "outputs": [
    {
     "data": {
      "text/plain": [
       "{'host_neighbourhood',\n",
       " 'license',\n",
       " 'monthly_price',\n",
       " 'square_feet',\n",
       " 'weekly_price'}"
      ]
     },
     "execution_count": 63,
     "metadata": {},
     "output_type": "execute_result"
    }
   ],
   "source": [
    "#list the columns with more than 50% missing data \n",
    "most_missing_cols"
   ]
  },
  {
   "cell_type": "code",
   "execution_count": 64,
   "metadata": {},
   "outputs": [],
   "source": [
    "#remove columns with high values of missing data \n",
    "listing_clean = listing_clean.drop(columns=['host_neighbourhood','license','monthly_price', 'square_feet', 'weekly_price']) ;"
   ]
  },
  {
   "cell_type": "code",
   "execution_count": 65,
   "metadata": {},
   "outputs": [],
   "source": [
    "#listing_clean.columns\n",
    "#remove unnessary columns that wouldnt provide any direct relationship on the price e.g. names etc \n",
    "listing_clean = listing_clean.drop(columns = ['id', 'listing_url', 'scrape_id', 'last_scraped', 'name', 'summary','space', 'description', 'experiences_offered', 'neighborhood_overview',\n",
    "       'notes', 'transit', 'access', 'interaction', 'house_rules','picture_url', 'host_id', 'host_url', 'host_name', 'host_location', 'host_about', 'host_response_time','host_thumbnail_url','street', 'city', 'state', 'zipcode', 'market',\n",
    "       'smart_location', 'country_code', 'country', 'latitude', 'longitude','host_picture_url','host_verifications','room_type','calendar_last_scraped','first_review' ,'calendar_updated' ,'last_review','host_since','amenities'])"
   ]
  },
  {
   "cell_type": "code",
   "execution_count": 66,
   "metadata": {},
   "outputs": [],
   "source": [
    "#clean the cleaning price data \n",
    "listing_clean['host_response_rate']=listing_clean['host_response_rate'].str.replace('%', '')\n",
    "listing_clean['host_response_rate']=listing_clean['host_response_rate'].fillna(0)\n",
    "listing_clean['host_response_rate']=listing_clean['host_response_rate'].astype(float) ;"
   ]
  },
  {
   "cell_type": "code",
   "execution_count": 67,
   "metadata": {},
   "outputs": [],
   "source": [
    "#security_deposit , cleaning_fee ,extra_people remove $ and convert to float \n",
    "listing_clean['security_deposit']=listing_clean['security_deposit'].str.replace(',', '')\n",
    "listing_clean['security_deposit'] = listing_clean['security_deposit'].str.replace('$', '')\n",
    "listing_clean['security_deposit'] = listing_clean['security_deposit'].astype(float)\n",
    "listing_clean['cleaning_fee']=listing_clean['cleaning_fee'].str.replace(',', '')\n",
    "listing_clean['cleaning_fee'] = listing_clean['cleaning_fee'].str.replace('$', '')\n",
    "listing_clean['cleaning_fee'] = listing_clean['cleaning_fee'].astype(float)\n",
    "listing_clean['extra_people']=listing_clean['extra_people'].str.replace(',', '')\n",
    "listing_clean['extra_people'] = listing_clean['extra_people'].str.replace('$', '')\n",
    "listing_clean['extra_people'] = listing_clean['extra_people'].astype(float)"
   ]
  },
  {
   "cell_type": "code",
   "execution_count": 68,
   "metadata": {},
   "outputs": [],
   "source": [
    "#convert and t and f to 1 and 0 \n",
    "listing_clean['host_is_superhost']= listing_clean['host_is_superhost'].map( lambda x: 0 if x == 'f' else 1)\n",
    "listing_clean['host_has_profile_pic']= listing_clean['host_has_profile_pic'].map( lambda x: 0 if x == 'f' else 1)\n",
    "listing_clean['host_identity_verified']= listing_clean['host_identity_verified'].map( lambda x: 0 if x == 'f' else 1)\n",
    "listing_clean['is_location_exact']= listing_clean['is_location_exact'].map( lambda x: 0 if x == 'f' else 1)\n",
    "listing_clean['has_availability']= listing_clean['has_availability'].map( lambda x: 0 if x == 'f' else 1)\n",
    "listing_clean['requires_license']= listing_clean['requires_license'].map( lambda x: 0 if x == 'f' else 1)\n",
    "listing_clean['instant_bookable']= listing_clean['instant_bookable'].map( lambda x: 0 if x == 'f' else 1)\n",
    "listing_clean['is_business_travel_ready']= listing_clean['is_business_travel_ready'].map( lambda x: 0 if x == 'f' else 1)\n",
    "listing_clean['require_guest_profile_picture']= listing_clean['require_guest_profile_picture'].map( lambda x: 0 if x == 'f' else 1)\n",
    "listing_clean['require_guest_phone_verification']= listing_clean['require_guest_phone_verification'].map( lambda x: 0 if x == 'f' else 1)"
   ]
  },
  {
   "cell_type": "code",
   "execution_count": 69,
   "metadata": {},
   "outputs": [
    {
     "data": {
      "text/plain": [
       "Apartment                 760\n",
       "House                     372\n",
       "Townhouse                  83\n",
       "Serviced apartment         39\n",
       "Condominium                33\n",
       "Loft                       16\n",
       "Guesthouse                 11\n",
       "Camper/RV                   9\n",
       "Guest suite                 8\n",
       "Tiny house                  8\n",
       "Cottage                     7\n",
       "Other                       4\n",
       "Bungalow                    4\n",
       "Barn                        2\n",
       "Boat                        2\n",
       "Cabin                       1\n",
       "Lighthouse                  1\n",
       "Casa particular (Cuba)      1\n",
       "Villa                       1\n",
       "Name: property_type, dtype: int64"
      ]
     },
     "execution_count": 69,
     "metadata": {},
     "output_type": "execute_result"
    }
   ],
   "source": [
    "listing_clean['property_type'].value_counts()"
   ]
  },
  {
   "cell_type": "code",
   "execution_count": 70,
   "metadata": {},
   "outputs": [
    {
     "data": {
      "text/html": [
       "<div>\n",
       "<style scoped>\n",
       "    .dataframe tbody tr th:only-of-type {\n",
       "        vertical-align: middle;\n",
       "    }\n",
       "\n",
       "    .dataframe tbody tr th {\n",
       "        vertical-align: top;\n",
       "    }\n",
       "\n",
       "    .dataframe thead th {\n",
       "        text-align: right;\n",
       "    }\n",
       "</style>\n",
       "<table border=\"1\" class=\"dataframe\">\n",
       "  <thead>\n",
       "    <tr style=\"text-align: right;\">\n",
       "      <th></th>\n",
       "      <th>neighbourhood_cleansed</th>\n",
       "      <th>property_type</th>\n",
       "      <th>bed_type</th>\n",
       "      <th>cancellation_policy</th>\n",
       "    </tr>\n",
       "  </thead>\n",
       "  <tbody>\n",
       "    <tr>\n",
       "      <td>4</td>\n",
       "      <td>Bedminster</td>\n",
       "      <td>Apartment</td>\n",
       "      <td>Real Bed</td>\n",
       "      <td>moderate</td>\n",
       "    </tr>\n",
       "    <tr>\n",
       "      <td>7</td>\n",
       "      <td>Ashley</td>\n",
       "      <td>House</td>\n",
       "      <td>Real Bed</td>\n",
       "      <td>strict_14_with_grace_period</td>\n",
       "    </tr>\n",
       "    <tr>\n",
       "      <td>16</td>\n",
       "      <td>Ashley</td>\n",
       "      <td>Apartment</td>\n",
       "      <td>Real Bed</td>\n",
       "      <td>moderate</td>\n",
       "    </tr>\n",
       "    <tr>\n",
       "      <td>18</td>\n",
       "      <td>Redland</td>\n",
       "      <td>House</td>\n",
       "      <td>Real Bed</td>\n",
       "      <td>moderate</td>\n",
       "    </tr>\n",
       "    <tr>\n",
       "      <td>23</td>\n",
       "      <td>Clifton</td>\n",
       "      <td>Apartment</td>\n",
       "      <td>Real Bed</td>\n",
       "      <td>moderate</td>\n",
       "    </tr>\n",
       "    <tr>\n",
       "      <td>...</td>\n",
       "      <td>...</td>\n",
       "      <td>...</td>\n",
       "      <td>...</td>\n",
       "      <td>...</td>\n",
       "    </tr>\n",
       "    <tr>\n",
       "      <td>2696</td>\n",
       "      <td>Ashley</td>\n",
       "      <td>House</td>\n",
       "      <td>Real Bed</td>\n",
       "      <td>flexible</td>\n",
       "    </tr>\n",
       "    <tr>\n",
       "      <td>2698</td>\n",
       "      <td>Clifton</td>\n",
       "      <td>Serviced apartment</td>\n",
       "      <td>Real Bed</td>\n",
       "      <td>flexible</td>\n",
       "    </tr>\n",
       "    <tr>\n",
       "      <td>2699</td>\n",
       "      <td>Easton</td>\n",
       "      <td>Apartment</td>\n",
       "      <td>Real Bed</td>\n",
       "      <td>moderate</td>\n",
       "    </tr>\n",
       "    <tr>\n",
       "      <td>2700</td>\n",
       "      <td>Clifton</td>\n",
       "      <td>Apartment</td>\n",
       "      <td>Real Bed</td>\n",
       "      <td>strict_14_with_grace_period</td>\n",
       "    </tr>\n",
       "    <tr>\n",
       "      <td>2701</td>\n",
       "      <td>Easton</td>\n",
       "      <td>House</td>\n",
       "      <td>Real Bed</td>\n",
       "      <td>flexible</td>\n",
       "    </tr>\n",
       "  </tbody>\n",
       "</table>\n",
       "<p>1362 rows × 4 columns</p>\n",
       "</div>"
      ],
      "text/plain": [
       "     neighbourhood_cleansed       property_type  bed_type  \\\n",
       "4                Bedminster           Apartment  Real Bed   \n",
       "7                    Ashley               House  Real Bed   \n",
       "16                   Ashley           Apartment  Real Bed   \n",
       "18                  Redland               House  Real Bed   \n",
       "23                  Clifton           Apartment  Real Bed   \n",
       "...                     ...                 ...       ...   \n",
       "2696                 Ashley               House  Real Bed   \n",
       "2698                Clifton  Serviced apartment  Real Bed   \n",
       "2699                 Easton           Apartment  Real Bed   \n",
       "2700                Clifton           Apartment  Real Bed   \n",
       "2701                 Easton               House  Real Bed   \n",
       "\n",
       "              cancellation_policy  \n",
       "4                        moderate  \n",
       "7     strict_14_with_grace_period  \n",
       "16                       moderate  \n",
       "18                       moderate  \n",
       "23                       moderate  \n",
       "...                           ...  \n",
       "2696                     flexible  \n",
       "2698                     flexible  \n",
       "2699                     moderate  \n",
       "2700  strict_14_with_grace_period  \n",
       "2701                     flexible  \n",
       "\n",
       "[1362 rows x 4 columns]"
      ]
     },
     "execution_count": 70,
     "metadata": {},
     "output_type": "execute_result"
    }
   ],
   "source": [
    "#show all the remaing columns with objects \n",
    "listing_clean.select_dtypes(include =['object'])"
   ]
  },
  {
   "cell_type": "code",
   "execution_count": 71,
   "metadata": {},
   "outputs": [
    {
     "data": {
      "text/plain": [
       "Ashley                         200\n",
       "Central                        159\n",
       "Clifton                        110\n",
       "Lawrence Hill                   90\n",
       "Clifton Down                    87\n",
       "Cotham                          84\n",
       "Redland                         69\n",
       "Southville                      64\n",
       "Easton                          64\n",
       "Windmill Hill                   63\n",
       "Hotwells & Harbourside          52\n",
       "Bishopston & Ashley Down        49\n",
       "Bedminster                      28\n",
       "Eastville                       26\n",
       "Avonmouth & Lawrence Weston     20\n",
       "Westbury-on-Trym & Henleaze     19\n",
       "St George West                  17\n",
       "Brislington West                17\n",
       "Frome Vale                      16\n",
       "Knowle                          16\n",
       "Stoke Bishop                    15\n",
       "Horfield                        15\n",
       "Hillfields                      11\n",
       "Lockleaze                       11\n",
       "St George Central               11\n",
       "Brislington East                10\n",
       "Bishopsworth                     7\n",
       "St George Troopers Hill          7\n",
       "Filwood                          6\n",
       "Hengrove & Whitchurch Park       6\n",
       "Henbury & Brentry                5\n",
       "Southmead                        5\n",
       "Hartcliffe & Withywood           2\n",
       "Stockwood                        1\n",
       "Name: neighbourhood_cleansed, dtype: int64"
      ]
     },
     "execution_count": 71,
     "metadata": {},
     "output_type": "execute_result"
    }
   ],
   "source": [
    "listing_clean['neighbourhood_cleansed'].value_counts()"
   ]
  },
  {
   "cell_type": "code",
   "execution_count": 72,
   "metadata": {},
   "outputs": [],
   "source": [
    "#removed the earlier because created to many columns !\n",
    "#provide dummy vaalues for all the remaining objects \n",
    "listing_clean=pd.get_dummies(listing_clean, columns=[\"property_type\", \"bed_type\" , 'cancellation_policy','neighbourhood_cleansed'], prefix=[\"type\", \"bed\" , \"cancel\" ,\"neighbourhood\"])"
   ]
  },
  {
   "cell_type": "code",
   "execution_count": 73,
   "metadata": {},
   "outputs": [],
   "source": [
    "#fill blank values with the mean values \n",
    "listing_clean=listing_clean.fillna(listing_clean.mean())"
   ]
  },
  {
   "cell_type": "code",
   "execution_count": 74,
   "metadata": {},
   "outputs": [],
   "source": [
    "#reduced the volume of columns because the models because the predictings had really bad results with to many columns \n",
    "listing_clean = listing_clean[['availability_365','accommodates','security_deposit', 'cleaning_fee','bathrooms', 'bedrooms', 'guests_included', 'price']]"
   ]
  },
  {
   "cell_type": "code",
   "execution_count": 75,
   "metadata": {},
   "outputs": [
    {
     "name": "stdout",
     "output_type": "stream",
     "text": [
      "<class 'pandas.core.frame.DataFrame'>\n",
      "Int64Index: 1362 entries, 4 to 2701\n",
      "Data columns (total 8 columns):\n",
      "availability_365    1362 non-null int64\n",
      "accommodates        1362 non-null int64\n",
      "security_deposit    1362 non-null float64\n",
      "cleaning_fee        1362 non-null float64\n",
      "bathrooms           1362 non-null float64\n",
      "bedrooms            1362 non-null float64\n",
      "guests_included     1362 non-null int64\n",
      "price               1362 non-null float64\n",
      "dtypes: float64(5), int64(3)\n",
      "memory usage: 95.8 KB\n"
     ]
    }
   ],
   "source": [
    "listing_clean.info()"
   ]
  },
  {
   "cell_type": "code",
   "execution_count": 76,
   "metadata": {},
   "outputs": [
    {
     "data": {
      "image/png": "[encoded data removed]",
      "text/plain": [
       "<Figure size 576x576 with 2 Axes>"
      ]
     },
     "metadata": {
      "needs_background": "light"
     },
     "output_type": "display_data"
    }
   ],
   "source": [
    "#Correlation heatmap to see if the chosen columns haave aany correlation to price - removed any that didnt correlation \n",
    "plt.figure(figsize = (8,8))\n",
    "sns.heatmap(listing_clean.corr(), annot=True , fmt = '.2f') ;"
   ]
  },
  {
   "cell_type": "code",
   "execution_count": 77,
   "metadata": {
    "scrolled": true
   },
   "outputs": [],
   "source": [
    "#LinearRegression\n",
    "#Split into explanatory and response variables\n",
    "y = listing_clean['price']\n",
    "X = listing_clean.drop('price', axis =1)\n",
    "\n",
    "#Split into train and test\n",
    "X_train, X_test, y_train, y_test = train_test_split(X, y, test_size = .25, random_state=42) \n",
    "\n",
    "lm_model = LinearRegression(normalize=True) # Instantiate\n",
    "lm_model.fit(X_train, y_train) #Fit\n",
    "        \n",
    "#Predict and score the model\n",
    "y_test_preds = lm_model.predict(X_test) "
   ]
  },
  {
   "cell_type": "code",
   "execution_count": 78,
   "metadata": {},
   "outputs": [
    {
     "name": "stdout",
     "output_type": "stream",
     "text": [
      "Training Features Shape: (1021, 7)\n",
      "Training Labels Shape: (1021,)\n",
      "Testing Features Shape: (341, 7)\n",
      "Testing Labels Shape: (341,)\n"
     ]
    }
   ],
   "source": [
    "print('Training Features Shape:', X_train.shape)\n",
    "print('Training Labels Shape:', y_train.shape)\n",
    "print('Testing Features Shape:', X_test.shape)\n",
    "print('Testing Labels Shape:', y_test.shape)"
   ]
  },
  {
   "cell_type": "code",
   "execution_count": 80,
   "metadata": {},
   "outputs": [
    {
     "name": "stdout",
     "output_type": "stream",
     "text": [
      "Coefficients: \n",
      " [ 0.10357544 10.02097366  0.08146178 -0.33086162 42.82894454 14.78149474\n",
      " -2.45940954]\n",
      "Mean squared error: 6252.29\n",
      "r2 score: 0.36\n"
     ]
    }
   ],
   "source": [
    "# The coefficients\n",
    "print('Coefficients: \\n', lm_model.coef_)\n",
    "# The mean squared error\n",
    "print('Mean squared error: %.2f'\n",
    "      % mean_squared_error(y_test , y_test_preds))\n",
    "# The coefficient of determination: 1 is perfect prediction\n",
    "print('r2 score: %.2f'\n",
    "      % r2_score(y_test, y_test_preds))"
   ]
  },
  {
   "cell_type": "code",
   "execution_count": 81,
   "metadata": {},
   "outputs": [
    {
     "data": {
      "text/html": [
       "<div>\n",
       "<style scoped>\n",
       "    .dataframe tbody tr th:only-of-type {\n",
       "        vertical-align: middle;\n",
       "    }\n",
       "\n",
       "    .dataframe tbody tr th {\n",
       "        vertical-align: top;\n",
       "    }\n",
       "\n",
       "    .dataframe thead th {\n",
       "        text-align: right;\n",
       "    }\n",
       "</style>\n",
       "<table border=\"1\" class=\"dataframe\">\n",
       "  <thead>\n",
       "    <tr style=\"text-align: right;\">\n",
       "      <th></th>\n",
       "      <th>Actual</th>\n",
       "      <th>Predicted</th>\n",
       "    </tr>\n",
       "  </thead>\n",
       "  <tbody>\n",
       "    <tr>\n",
       "      <td>144</td>\n",
       "      <td>160.0</td>\n",
       "      <td>216.888780</td>\n",
       "    </tr>\n",
       "    <tr>\n",
       "      <td>2250</td>\n",
       "      <td>75.0</td>\n",
       "      <td>54.480696</td>\n",
       "    </tr>\n",
       "    <tr>\n",
       "      <td>2616</td>\n",
       "      <td>42.0</td>\n",
       "      <td>85.773619</td>\n",
       "    </tr>\n",
       "    <tr>\n",
       "      <td>1108</td>\n",
       "      <td>95.0</td>\n",
       "      <td>96.813437</td>\n",
       "    </tr>\n",
       "    <tr>\n",
       "      <td>2506</td>\n",
       "      <td>120.0</td>\n",
       "      <td>97.810463</td>\n",
       "    </tr>\n",
       "    <tr>\n",
       "      <td>...</td>\n",
       "      <td>...</td>\n",
       "      <td>...</td>\n",
       "    </tr>\n",
       "    <tr>\n",
       "      <td>1897</td>\n",
       "      <td>50.0</td>\n",
       "      <td>97.590833</td>\n",
       "    </tr>\n",
       "    <tr>\n",
       "      <td>1962</td>\n",
       "      <td>100.0</td>\n",
       "      <td>115.481365</td>\n",
       "    </tr>\n",
       "    <tr>\n",
       "      <td>1603</td>\n",
       "      <td>80.0</td>\n",
       "      <td>102.996058</td>\n",
       "    </tr>\n",
       "    <tr>\n",
       "      <td>1073</td>\n",
       "      <td>55.0</td>\n",
       "      <td>72.661784</td>\n",
       "    </tr>\n",
       "    <tr>\n",
       "      <td>370</td>\n",
       "      <td>100.0</td>\n",
       "      <td>150.601483</td>\n",
       "    </tr>\n",
       "  </tbody>\n",
       "</table>\n",
       "<p>341 rows × 2 columns</p>\n",
       "</div>"
      ],
      "text/plain": [
       "      Actual   Predicted\n",
       "144    160.0  216.888780\n",
       "2250    75.0   54.480696\n",
       "2616    42.0   85.773619\n",
       "1108    95.0   96.813437\n",
       "2506   120.0   97.810463\n",
       "...      ...         ...\n",
       "1897    50.0   97.590833\n",
       "1962   100.0  115.481365\n",
       "1603    80.0  102.996058\n",
       "1073    55.0   72.661784\n",
       "370    100.0  150.601483\n",
       "\n",
       "[341 rows x 2 columns]"
      ]
     },
     "execution_count": 81,
     "metadata": {},
     "output_type": "execute_result"
    }
   ],
   "source": [
    "#Created a train and prediction data frame to plot to see how well worked \n",
    "df = pd.DataFrame({'Actual': y_test , 'Predicted': y_test_preds})\n",
    "df"
   ]
  },
  {
   "cell_type": "code",
   "execution_count": 96,
   "metadata": {},
   "outputs": [
    {
     "data": {
      "image/png": "[encoded data removed]",
      "text/plain": [
       "<Figure size 1152x720 with 1 Axes>"
      ]
     },
     "metadata": {
      "needs_background": "light"
     },
     "output_type": "display_data"
    }
   ],
   "source": [
    "#limted the volume and did a sample plot  \n",
    "df1 = df.head(25)\n",
    "df1.plot(kind='bar',figsize=(16,10))\n",
    "plt.title('LinearRegression Actuals vs Predicted sample ');\n",
    "plt.grid(which='major', linestyle='-', linewidth='0.5', color='green')\n",
    "plt.grid(which='minor', linestyle=':', linewidth='0.5', color='black')\n",
    "plt.show()"
   ]
  },
  {
   "cell_type": "code",
   "execution_count": 83,
   "metadata": {},
   "outputs": [
    {
     "data": {
      "image/png": "[encoded data removed]",
      "text/plain": [
       "<Figure size 432x288 with 1 Axes>"
      ]
     },
     "metadata": {
      "needs_background": "light"
     },
     "output_type": "display_data"
    }
   ],
   "source": [
    "plt.scatter(X_test['bedrooms'], y_test,  color='gray');\n",
    "plt.scatter(X_test['bedrooms'], y_test_preds , color='red');"
   ]
  },
  {
   "cell_type": "code",
   "execution_count": 84,
   "metadata": {},
   "outputs": [
    {
     "data": {
      "image/png": "[encoded data removed]",
      "text/plain": [
       "<Figure size 432x288 with 1 Axes>"
      ]
     },
     "metadata": {
      "needs_background": "light"
     },
     "output_type": "display_data"
    }
   ],
   "source": [
    "plt.scatter(X_test['bathrooms'], y_test,  color='gray');\n",
    "plt.scatter(X_test['bathrooms'], y_test_preds , color='red');"
   ]
  },
  {
   "cell_type": "code",
   "execution_count": 85,
   "metadata": {},
   "outputs": [
    {
     "data": {
      "image/png": "[encoded data removed]",
      "text/plain": [
       "<Figure size 432x288 with 1 Axes>"
      ]
     },
     "metadata": {
      "needs_background": "light"
     },
     "output_type": "display_data"
    }
   ],
   "source": [
    "plt.scatter(X_test['accommodates'], y_test,  color='gray');\n",
    "plt.scatter(X_test['accommodates'], y_test_preds , color='red');"
   ]
  },
  {
   "cell_type": "code",
   "execution_count": 86,
   "metadata": {},
   "outputs": [],
   "source": [
    "Feature_list = list(X.columns)"
   ]
  },
  {
   "cell_type": "code",
   "execution_count": 87,
   "metadata": {},
   "outputs": [],
   "source": [
    "from sklearn.ensemble import RandomForestRegressor"
   ]
  },
  {
   "cell_type": "code",
   "execution_count": 88,
   "metadata": {},
   "outputs": [],
   "source": [
    "#Trided using Random Forest to improve the results from above \n",
    "#Split into train and test\n",
    "X_trainRT, X_testRT, y_trainRT, y_testRT = train_test_split(X, y, test_size = .25, random_state=42) "
   ]
  },
  {
   "cell_type": "code",
   "execution_count": 89,
   "metadata": {},
   "outputs": [],
   "source": [
    "rf = RandomForestRegressor(n_estimators = 1000, random_state = 42)"
   ]
  },
  {
   "cell_type": "code",
   "execution_count": 90,
   "metadata": {},
   "outputs": [
    {
     "data": {
      "text/plain": [
       "RandomForestRegressor(bootstrap=True, criterion='mse', max_depth=None,\n",
       "                      max_features='auto', max_leaf_nodes=None,\n",
       "                      min_impurity_decrease=0.0, min_impurity_split=None,\n",
       "                      min_samples_leaf=1, min_samples_split=2,\n",
       "                      min_weight_fraction_leaf=0.0, n_estimators=1000,\n",
       "                      n_jobs=None, oob_score=False, random_state=42, verbose=0,\n",
       "                      warm_start=False)"
      ]
     },
     "execution_count": 90,
     "metadata": {},
     "output_type": "execute_result"
    }
   ],
   "source": [
    "rf.fit(X_trainRT, y_trainRT)"
   ]
  },
  {
   "cell_type": "code",
   "execution_count": 91,
   "metadata": {},
   "outputs": [],
   "source": [
    "y_train_pred = rf.predict(X_trainRT)\n",
    "y_test_pred = rf.predict(X_testRT)\n",
    "rmse_rf= (mean_squared_error(y_testRT,y_test_pred))**(1/2)"
   ]
  },
  {
   "cell_type": "code",
   "execution_count": 92,
   "metadata": {},
   "outputs": [
    {
     "name": "stdout",
     "output_type": "stream",
     "text": [
      "RMSE test: 67.153\n",
      "R^2 score: 0.540\n"
     ]
    }
   ],
   "source": [
    "print('RMSE test: %.3f' % rmse_rf)\n",
    "print('R^2 score: %.3f' % (r2_score(y_testRT, y_test_pred)))"
   ]
  },
  {
   "cell_type": "code",
   "execution_count": 93,
   "metadata": {},
   "outputs": [
    {
     "name": "stdout",
     "output_type": "stream",
     "text": [
      "Variable: accommodates         Importance: 0.34\n",
      "Variable: availability_365     Importance: 0.16\n",
      "Variable: security_deposit     Importance: 0.14\n",
      "Variable: bedrooms             Importance: 0.12\n",
      "Variable: cleaning_fee         Importance: 0.11\n",
      "Variable: bathrooms            Importance: 0.09\n",
      "Variable: guests_included      Importance: 0.05\n"
     ]
    }
   ],
   "source": [
    "# Get numerical feature importances\n",
    "importances = list(rf.feature_importances_)\n",
    "# List of tuples with variable and importance\n",
    "feature_importances = [(feature, round(importance, 2)) for feature, importance in zip(Feature_list, importances)]\n",
    "# Sort the feature importances by most important first\n",
    "feature_importances = sorted(feature_importances, key = lambda x: x[1], reverse = True)\n",
    "# Print out the feature and importances \n",
    "[print('Variable: {:20} Importance: {}'.format(*pair)) for pair in feature_importances];"
   ]
  },
  {
   "cell_type": "code",
   "execution_count": 94,
   "metadata": {},
   "outputs": [
    {
     "data": {
      "text/html": [
       "<div>\n",
       "<style scoped>\n",
       "    .dataframe tbody tr th:only-of-type {\n",
       "        vertical-align: middle;\n",
       "    }\n",
       "\n",
       "    .dataframe tbody tr th {\n",
       "        vertical-align: top;\n",
       "    }\n",
       "\n",
       "    .dataframe thead th {\n",
       "        text-align: right;\n",
       "    }\n",
       "</style>\n",
       "<table border=\"1\" class=\"dataframe\">\n",
       "  <thead>\n",
       "    <tr style=\"text-align: right;\">\n",
       "      <th></th>\n",
       "      <th>Actual</th>\n",
       "      <th>Predicted</th>\n",
       "    </tr>\n",
       "  </thead>\n",
       "  <tbody>\n",
       "    <tr>\n",
       "      <td>144</td>\n",
       "      <td>160.0</td>\n",
       "      <td>152.844000</td>\n",
       "    </tr>\n",
       "    <tr>\n",
       "      <td>2250</td>\n",
       "      <td>75.0</td>\n",
       "      <td>74.973820</td>\n",
       "    </tr>\n",
       "    <tr>\n",
       "      <td>2616</td>\n",
       "      <td>42.0</td>\n",
       "      <td>79.031000</td>\n",
       "    </tr>\n",
       "    <tr>\n",
       "      <td>1108</td>\n",
       "      <td>95.0</td>\n",
       "      <td>90.180000</td>\n",
       "    </tr>\n",
       "    <tr>\n",
       "      <td>2506</td>\n",
       "      <td>120.0</td>\n",
       "      <td>65.837000</td>\n",
       "    </tr>\n",
       "    <tr>\n",
       "      <td>...</td>\n",
       "      <td>...</td>\n",
       "      <td>...</td>\n",
       "    </tr>\n",
       "    <tr>\n",
       "      <td>1897</td>\n",
       "      <td>50.0</td>\n",
       "      <td>94.454000</td>\n",
       "    </tr>\n",
       "    <tr>\n",
       "      <td>1962</td>\n",
       "      <td>100.0</td>\n",
       "      <td>86.241000</td>\n",
       "    </tr>\n",
       "    <tr>\n",
       "      <td>1603</td>\n",
       "      <td>80.0</td>\n",
       "      <td>86.048250</td>\n",
       "    </tr>\n",
       "    <tr>\n",
       "      <td>1073</td>\n",
       "      <td>55.0</td>\n",
       "      <td>88.763667</td>\n",
       "    </tr>\n",
       "    <tr>\n",
       "      <td>370</td>\n",
       "      <td>100.0</td>\n",
       "      <td>126.169000</td>\n",
       "    </tr>\n",
       "  </tbody>\n",
       "</table>\n",
       "<p>341 rows × 2 columns</p>\n",
       "</div>"
      ],
      "text/plain": [
       "      Actual   Predicted\n",
       "144    160.0  152.844000\n",
       "2250    75.0   74.973820\n",
       "2616    42.0   79.031000\n",
       "1108    95.0   90.180000\n",
       "2506   120.0   65.837000\n",
       "...      ...         ...\n",
       "1897    50.0   94.454000\n",
       "1962   100.0   86.241000\n",
       "1603    80.0   86.048250\n",
       "1073    55.0   88.763667\n",
       "370    100.0  126.169000\n",
       "\n",
       "[341 rows x 2 columns]"
      ]
     },
     "execution_count": 94,
     "metadata": {},
     "output_type": "execute_result"
    }
   ],
   "source": [
    "df_rf = pd.DataFrame({'Actual': y_testRT , 'Predicted': y_test_pred})\n",
    "df_rf"
   ]
  },
  {
   "cell_type": "code",
   "execution_count": 97,
   "metadata": {},
   "outputs": [
    {
     "data": {
      "image/png": "[encoded data removed]",
      "text/plain": [
       "<Figure size 1152x720 with 1 Axes>"
      ]
     },
     "metadata": {
      "needs_background": "light"
     },
     "output_type": "display_data"
    }
   ],
   "source": [
    "df_rf1 = df_rf.head(25)\n",
    "df_rf1.plot(kind='bar',figsize=(16,10))\n",
    "plt.title('RandomForestRegressor Actuals vs Predicted sample ');\n",
    "plt.grid(which='major', linestyle='-', linewidth='0.5', color='green')\n",
    "plt.grid(which='minor', linestyle=':', linewidth='0.5', color='black')\n",
    "plt.show()"
   ]
  },
  {
   "cell_type": "code",
   "execution_count": null,
   "metadata": {},
   "outputs": [],
   "source": []
  },
  {
   "cell_type": "code",
   "execution_count": null,
   "metadata": {},
   "outputs": [],
   "source": []
  }
 ],
 "metadata": {
  "kernelspec": {
   "display_name": "Python 3",
   "language": "python",
   "name": "python3"
  },
  "language_info": {
   "codemirror_mode": {
    "name": "ipython",
    "version": 3
   },
   "file_extension": ".py",
   "mimetype": "text/x-python",
   "name": "python",
   "nbconvert_exporter": "python",
   "pygments_lexer": "ipython3",
   "version": "3.7.4"
  }
 },
 "nbformat": 4,
 "nbformat_minor": 2
}
